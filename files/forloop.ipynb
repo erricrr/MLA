{
 "cells": [
  {
   "cell_type": "code",
   "execution_count": 2,
   "metadata": {},
   "outputs": [],
   "source": [
    "import pyaudio"
   ]
  },
  {
   "cell_type": "code",
   "execution_count": 2,
   "metadata": {},
   "outputs": [
    {
     "name": "stdout",
     "output_type": "stream",
     "text": [
      "Requirement already satisfied: gtts in c:\\users\\hlliu2\\anaconda3\\lib\\site-packages (2.1.1)\n",
      "Requirement already satisfied: click in c:\\users\\hlliu2\\anaconda3\\lib\\site-packages (from gtts) (7.0)\n",
      "Requirement already satisfied: six in c:\\users\\hlliu2\\anaconda3\\lib\\site-packages (from gtts) (1.14.0)\n",
      "Requirement already satisfied: requests in c:\\users\\hlliu2\\anaconda3\\lib\\site-packages (from gtts) (2.22.0)\n",
      "Requirement already satisfied: beautifulsoup4 in c:\\users\\hlliu2\\anaconda3\\lib\\site-packages (from gtts) (4.8.2)\n",
      "Requirement already satisfied: gtts-token>=1.1.3 in c:\\users\\hlliu2\\anaconda3\\lib\\site-packages (from gtts) (1.1.3)\n",
      "Requirement already satisfied: idna<2.9,>=2.5 in c:\\users\\hlliu2\\anaconda3\\lib\\site-packages (from requests->gtts) (2.8)\n",
      "Requirement already satisfied: urllib3!=1.25.0,!=1.25.1,<1.26,>=1.21.1 in c:\\users\\hlliu2\\anaconda3\\lib\\site-packages (from requests->gtts) (1.25.8)\n",
      "Requirement already satisfied: chardet<3.1.0,>=3.0.2 in c:\\users\\hlliu2\\anaconda3\\lib\\site-packages (from requests->gtts) (3.0.4)\n",
      "Requirement already satisfied: certifi>=2017.4.17 in c:\\users\\hlliu2\\anaconda3\\lib\\site-packages (from requests->gtts) (2019.11.28)\n",
      "Requirement already satisfied: soupsieve>=1.2 in c:\\users\\hlliu2\\anaconda3\\lib\\site-packages (from beautifulsoup4->gtts) (1.9.5)\n"
     ]
    }
   ],
   "source": [
    "!pip install gtts"
   ]
  },
  {
   "cell_type": "code",
   "execution_count": null,
   "metadata": {},
   "outputs": [],
   "source": []
  }
 ],
 "metadata": {
  "kernelspec": {
   "display_name": "Python 3",
   "language": "python",
   "name": "python3"
  },
  "language_info": {
   "codemirror_mode": {
    "name": "ipython",
    "version": 3
   },
   "file_extension": ".py",
   "mimetype": "text/x-python",
   "name": "python",
   "nbconvert_exporter": "python",
   "pygments_lexer": "ipython3",
   "version": "3.8.3"
  }
 },
 "nbformat": 4,
 "nbformat_minor": 4
}
