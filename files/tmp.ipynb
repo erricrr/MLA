{
 "cells": [
  {
   "cell_type": "code",
   "execution_count": 1,
   "metadata": {},
   "outputs": [
    {
     "name": "stdout",
     "output_type": "stream",
     "text": [
      "The latest value for DOW JONES is 34326.46!\n",
      "The latest value for S&P500 is 4357.04!\n",
      "The latest stock price for Apple is $142.65!\n",
      "The latest stock price for Amazon is $3283.26!\n",
      "The latest stock price for Tesla is $775.22!\n"
     ]
    }
   ],
   "source": [
    "# import needed modules\n",
    "from tkinter import *\n",
    "\n",
    "import arrow\n",
    "from yahoo_fin import stock_info as si\n",
    "\n",
    "# create a root window hold all widgets\n",
    "root = Tk()\n",
    "#specify the title and size of the root window\n",
    "root.title(\"U.S. Stock Market Watch\")\n",
    "root.geometry(\"1100x750\")\n",
    "# create a first label using hte Label() function\n",
    "label = Label(text=\"\", fg=\"Blue\", font=(\"Helvetica\", 80))\n",
    "label.pack()\n",
    "# create a second label\n",
    "label2 = Label(text=\"\", fg=\"Red\", font=(\"Helvetica\", 60))\n",
    "label2.pack()\n",
    "# set up tickers and names\n",
    "tickers = ['^DJI','^GSPC','AAPL','AMZN','TSLA']\n",
    "names = ['DOW JONES','S&P500', 'Apple', 'Amazon', 'Tesla']\n",
    "# set up the oldprice values and price bounds\n",
    "oldprice=[]\n",
    "maxprice=[]\n",
    "minprice=[]\n",
    "for i in range(5):\n",
    "    p=round(float(si.get_live_price(tickers[i])),2)\n",
    "    oldprice.append(p)\n",
    "    maxprice.append(p*1.05)\n",
    "    minprice.append(p*0.95)\n",
    "    if i<=1:\n",
    "        print(f'The latest value for {names[i]} is {p}!')            \n",
    "    else:\n",
    "        print(f'The latest stock price for {names[i]} is ${p}!') \n",
    "# define the StockWatch() function\n",
    "def StockWatch():\n",
    "    #declare global variables \n",
    "    global oldprice\n",
    "    #obtain live information about the DOW JONES index from Yahoo\n",
    "    p1=round(float(si.get_live_price(\"^DJI\")),2)\n",
    "    m1=f'DOW JONES: {p1}'\n",
    "    #obtain live information about the SP500 index from Yahoo \n",
    "    p2=round(float(si.get_live_price(\"^GSPC\")),2)\n",
    "    m2=f'S&P500: {p2}'      \n",
    "    #obtain live price information for Apple stock from Yahoo        \n",
    "    p3=round(float(si.get_live_price(\"AAPL\")),2)\n",
    "    m3=f'Apple: ${p3}'\n",
    "    #obtain live price information for Amazon stock from Yahoo                \n",
    "    p4=round(float(si.get_live_price(\"AMZN\")),2)\n",
    "    m4=f'Amazon: ${p4}'\n",
    "    #obtain live price information for Tesla stock from Yahoo                \n",
    "    p5=round(float(si.get_live_price(\"TSLA\")),2)\n",
    "    m5=f'Tesla: ${p5}'\n",
    "    # put the five prices in a list p\n",
    "    p=[p1,p2,p3,p4,p5]\n",
    "    #obtain current date and time infomration         \n",
    "    tdate=arrow.now().format('MMMM DD, YYYY')\n",
    "    tm=arrow.now().format('hh:mm:ss A')\n",
    "    #put the date and time information in the first label         \n",
    "    label.configure(text=tdate+\"\\n\"+tm)\n",
    "    #put all the five messages on the stock market in the second label        \n",
    "    label2.configure(text=m1+\"\\n\"+m2+\"\\n\"+m3+\"\\n\"+m4+\"\\n\"+m5, justify=LEFT)\n",
    "    # if there is update in the marekt, announce it\n",
    "    for i in range(5):     \n",
    "        if p[i]!=oldprice[i]:\n",
    "            oldprice[i]=p[i]\n",
    "            if i<=1:\n",
    "                print(f'The latest value for {names[i]} is {p[i]}!')            \n",
    "            else:\n",
    "                print(f'The latest stock price for {names[i]} is ${p[i]}!') \n",
    "    # if price goes out of bounds, announce it\n",
    "    for i in range(5):     \n",
    "        if p[i]>maxprice[i]:\n",
    "            print(f'{names[i]} has moved above the upper bound!')            \n",
    "        if p[i]<minprice[i]:\n",
    "            print(f'{names[i]} has moved below the lower bound!')            \n",
    "    #call the StockWatch() function after 5000 milliseconds\n",
    "    root.after(12000, StockWatch)\n",
    "# call the StockWatch() function\n",
    "StockWatch()  \n",
    "# run the game loop\n",
    "root.mainloop()\n"
   ]
  },
  {
   "cell_type": "code",
   "execution_count": 4,
   "metadata": {},
   "outputs": [
    {
     "name": "stdout",
     "output_type": "stream",
     "text": [
      "Requirement already satisfied: yahoo_fin in c:\\users\\hlliu2\\.conda\\envs\\test\\lib\\site-packages (0.8.6)\n"
     ]
    },
    {
     "name": "stderr",
     "output_type": "stream",
     "text": [
      "ERROR: Could not install packages due to an OSError: [Errno 2] No such file or directory: 'c:\\\\users\\\\hlliu2\\\\.conda\\\\envs\\\\test\\\\lib\\\\site-packages\\\\numpy-1.19.1.dist-info\\\\METADATA'\n",
      "\n"
     ]
    },
    {
     "name": "stdout",
     "output_type": "stream",
     "text": [
      "Collecting yahoo_fin\n",
      "  Using cached yahoo_fin-0.8.9.1-py3-none-any.whl (10 kB)\n",
      "Requirement already satisfied: requests-html in c:\\users\\hlliu2\\.conda\\envs\\test\\lib\\site-packages (from yahoo_fin) (0.10.0)\n",
      "Collecting feedparser\n",
      "  Using cached feedparser-6.0.8-py3-none-any.whl (81 kB)\n",
      "Requirement already satisfied: pandas in c:\\users\\hlliu2\\.conda\\envs\\test\\lib\\site-packages (from yahoo_fin) (1.1.0)\n",
      "Requirement already satisfied: requests in c:\\users\\hlliu2\\.conda\\envs\\test\\lib\\site-packages (from yahoo_fin) (2.23.0)\n",
      "Collecting sgmllib3k\n",
      "  Using cached sgmllib3k-1.0.0.tar.gz (5.8 kB)\n",
      "Requirement already satisfied: numpy>=1.15.4 in c:\\users\\hlliu2\\.conda\\envs\\test\\lib\\site-packages (from pandas->yahoo_fin) (1.19.1)\n",
      "Requirement already satisfied: python-dateutil>=2.7.3 in c:\\users\\hlliu2\\.conda\\envs\\test\\lib\\site-packages (from pandas->yahoo_fin) (2.8.1)\n",
      "Requirement already satisfied: pytz>=2017.2 in c:\\users\\hlliu2\\.conda\\envs\\test\\lib\\site-packages (from pandas->yahoo_fin) (2020.1)\n"
     ]
    }
   ],
   "source": [
    "!pip install --upgrade yahoo_fin "
   ]
  },
  {
   "cell_type": "code",
   "execution_count": null,
   "metadata": {},
   "outputs": [],
   "source": []
  }
 ],
 "metadata": {
  "kernelspec": {
   "display_name": "Python 3",
   "language": "python",
   "name": "python3"
  },
  "language_info": {
   "codemirror_mode": {
    "name": "ipython",
    "version": 3
   },
   "file_extension": ".py",
   "mimetype": "text/x-python",
   "name": "python",
   "nbconvert_exporter": "python",
   "pygments_lexer": "ipython3",
   "version": "3.9.6"
  }
 },
 "nbformat": 4,
 "nbformat_minor": 4
}
