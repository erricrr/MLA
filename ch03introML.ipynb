{
 "cells": [
  {
   "cell_type": "markdown",
   "id": "653089c9",
   "metadata": {},
   "source": [
    "# Chaper 3: Machine Learning: An Overview\n",
    "\n",
    "New Skills in This Chapter:\n",
    "\n",
    "• Learning the difference between rule-based AI and machine learning\n",
    "\n",
    "• Understanding three different types of machine learning\n",
    "\n",
    "• Getting to know the learning process, common algorithms, and main applications of supervised learning, unsupervised learning, and reinforcement learning\n",
    "\n",
    "• Understanding deep learning and deep reinforcement learning"
   ]
  },
  {
   "cell_type": "markdown",
   "id": "e3b25bf6",
   "metadata": {},
   "source": [
    "***\n",
    "*[Machine Learning is]... a field of study that gives computers the ability to learn\n",
    "without being explicitly programmed.*\n",
    "***\n",
    "-- Arthur Samuel, in 1959\n",
    "\n",
    "***"
   ]
  },
  {
   "cell_type": "code",
   "execution_count": 1,
   "id": "4fe65e5a",
   "metadata": {},
   "outputs": [],
   "source": [
    "import os\n",
    "\n",
    "os.makedirs(\"files/ch03\", exist_ok=True)"
   ]
  },
  {
   "cell_type": "markdown",
   "id": "e687ca74",
   "metadata": {},
   "source": [
    "# 3.6 Exercises"
   ]
  },
  {
   "cell_type": "markdown",
   "id": "f50b9ff9",
   "metadata": {},
   "source": [
    "# Answer to Question 3.10\n",
    "the minimum number of blocks to travel is 38\n",
    "\n",
    "\n",
    "the destinations along the shortest route is\n",
    "\n",
    "[(6, 6), (9, 9), (7, 2), (5, 0), (3, 2), (1, 2), (1, 3), (1, 5),\n",
    "(0, 7), (6, 6)]\n",
    "\n",
    "\n",
    "the shortest route to travel (block by block instruction) is\n",
    "\n",
    "\n",
    "[[(6, 6), (7, 6), (8, 6), (9, 6), (9, 7), (9, 8)], \n",
    "\n",
    "[(9, 9), (8, 9), (7, 9), (7, 8), (7, 7), (7, 6), (7, 5), (7, 4), (7, 3)],\n",
    "\n",
    "[(7, 2),\n",
    "(6, 2), (5, 2), (5, 1)], \n",
    "\n",
    "[(5, 0), (4, 0), (3, 0), (3, 1)], \n",
    "\n",
    "[(3, 2),\n",
    "(2, 2)], \n",
    "\n",
    "[(1, 2)], \n",
    "\n",
    "[(1, 3), (1, 4)], \n",
    "\n",
    "[(1, 5), (0, 5), (0, 6)],\n",
    "\n",
    "\n",
    "[(0, 7), (0, 6), (1, 6), (2, 6), (3, 6), (4, 6), (5, 6)]]\n",
    "\n",
    "Finally back to (6, 6)."
   ]
  }
 ],
 "metadata": {
  "kernelspec": {
   "display_name": "Python 3 (ipykernel)",
   "language": "python",
   "name": "python3"
  },
  "language_info": {
   "codemirror_mode": {
    "name": "ipython",
    "version": 3
   },
   "file_extension": ".py",
   "mimetype": "text/x-python",
   "name": "python",
   "nbconvert_exporter": "python",
   "pygments_lexer": "ipython3",
   "version": "3.9.12"
  }
 },
 "nbformat": 4,
 "nbformat_minor": 5
}
